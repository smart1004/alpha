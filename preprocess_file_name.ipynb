{
 "cells": [
  {
   "cell_type": "code",
   "execution_count": null,
   "metadata": {},
   "outputs": [],
   "source": []
  },
  {
   "cell_type": "markdown",
   "metadata": {},
   "source": [
    "### 특정 폴더의 파일명을 rename"
   ]
  },
  {
   "cell_type": "code",
   "execution_count": null,
   "metadata": {},
   "outputs": [],
   "source": []
  },
  {
   "cell_type": "code",
   "execution_count": 1,
   "metadata": {},
   "outputs": [],
   "source": [
    "# kaggle은 파일명이 이상하면 안올라 간다.\n",
    "import os\n",
    "path = r'C:\\mylab\\alphado\\code4\\input\\dog-skin-disease'\n",
    "for dpath, dnames, fnames in os.walk(path):\n",
    "    for filename in fnames:\n",
    "        os.chdir(dpath)\n",
    "        #print(dpath, filename) \n",
    "        filename_without_ext = os.path.splitext(filename)[0]\n",
    "        extension = os.path.splitext(filename)[1]\n",
    "\n",
    "        #new_file_name = filename_without_ext+\"_n\"\n",
    "        items =[  ' ', '[', ']',  ','  ,'.', '-', '%', '(', ')' ,'#', '&',    ]\n",
    "        new_file_name = filename_without_ext\n",
    "        for item in items:\n",
    "            #print(item)\n",
    "            new_file_name = new_file_name.replace(item, '_')\n",
    "\n",
    "        new_file_name_with_ext = new_file_name + extension\n",
    "        #print(new_file_name_with_ext)\n",
    "        os.rename(os.path.join(dpath,filename),os.path.join(dpath, new_file_name_with_ext))        "
   ]
  },
  {
   "cell_type": "code",
   "execution_count": null,
   "metadata": {},
   "outputs": [],
   "source": []
  },
  {
   "cell_type": "markdown",
   "metadata": {},
   "source": [
    "## png를 jpg로 변환, jpeg --> jpg"
   ]
  },
  {
   "cell_type": "code",
   "execution_count": null,
   "metadata": {},
   "outputs": [],
   "source": [
    "# png를 jpg로 변환\n",
    "import os\n",
    "from PIL import Image\n",
    "path = r'C:\\mylab\\alphado\\code4\\input\\dog-skin-disease'\n",
    "for dpath, dnames, fnames in os.walk(path):\n",
    "    for filename in fnames:\n",
    "        os.chdir(dpath)\n",
    "        #print(dpath, filename) \n",
    "        filename_without_ext = os.path.splitext(filename)[0]\n",
    "        extension = os.path.splitext(filename)[1]\n",
    "        #print(extension) \n",
    "        # jpeg --> jpg\n",
    "        if extension.lower() == '.jpeg': \n",
    "            extension='.jpg'\n",
    "            new_file_name_with_ext = filename_without_ext+extension\n",
    "            os.rename(os.path.join(dpath,filename),os.path.join(dpath, new_file_name_with_ext))        \n",
    "            \n",
    "        #png를 jpg로 변환            \n",
    "        if extension.lower() == '.png': \n",
    "            im = Image.open(os.path.join(dpath,filename))\n",
    "            rgb_im = im.convert('RGB')\n",
    "            extension=\".jpg\"\n",
    "            new_file_name_with_ext = filename_without_ext+extension\n",
    "            rgb_im.save(os.path.join(dpath,new_file_name_with_ext)) #'colors.jpg'\n",
    "            \n",
    "            os.remove(os.path.join(dpath,filename)) #기존 파일 삭제"
   ]
  },
  {
   "cell_type": "code",
   "execution_count": null,
   "metadata": {},
   "outputs": [],
   "source": []
  },
  {
   "cell_type": "code",
   "execution_count": null,
   "metadata": {},
   "outputs": [],
   "source": []
  },
  {
   "cell_type": "code",
   "execution_count": null,
   "metadata": {},
   "outputs": [],
   "source": []
  }
 ],
 "metadata": {
  "kernelspec": {
   "display_name": "tf-gpu",
   "language": "python",
   "name": "tf2"
  },
  "language_info": {
   "codemirror_mode": {
    "name": "ipython",
    "version": 3
   },
   "file_extension": ".py",
   "mimetype": "text/x-python",
   "name": "python",
   "nbconvert_exporter": "python",
   "pygments_lexer": "ipython3",
   "version": "3.7.7"
  }
 },
 "nbformat": 4,
 "nbformat_minor": 4
}
